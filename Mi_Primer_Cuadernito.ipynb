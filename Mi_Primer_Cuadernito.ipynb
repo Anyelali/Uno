{
 "cells": [
  {
   "cell_type": "markdown",
   "metadata": {
    "id": "zzYNtOzkbguN"
   },
   "source": []
  },
  {
   "cell_type": "markdown",
   "metadata": {
    "id": "U6Cq58ffeK5n"
   },
   "source": []
  },
  {
   "cell_type": "markdown",
   "metadata": {
    "id": "08_mkMKgeLVh"
   },
   "source": [
    "### Sección 1"
   ]
  },
  {
   "cell_type": "markdown",
   "metadata": {
    "id": "h0_5-dRieDGp"
   },
   "source": [
    "## Capitulo 1"
   ]
  },
  {
   "cell_type": "code",
   "execution_count": null,
   "metadata": {
    "id": "rtr-yMvrlX3N"
   },
   "outputs": [],
   "source": [
    " c"
   ]
  },
  {
   "cell_type": "markdown",
   "metadata": {
    "id": "HgYwe-K-dNvI"
   },
   "source": [
    "# La nostalgía del melómano\r\n",
    "\r\n",
    "## Capitulo 1\r\n",
    "\r\n",
    "### Sección 1\r\n",
    "\r\n",
    "[Venta Libreria Nacional] (https://librerianacional.com/producto/la-nostalgia-del-melomano)\r\n",
    "[Cómo aprender Markdown] (https://markdown.es/)\r\n",
    "![Foto](https://www.google.com/url?sa=i&url=https%3A%2F%2Fgeekland.eu%2Faprender-markdown-en-minutos%2F&psig=AOvVaw37_xe6hQZwRX5CzfaUCA_6&ust=1614902745060000&source=images&cd=vfe&ved=2ahUKEwiC5P_Uq5XvAhWsdzABHSJlC5EQjRx6BAgAEAc)\r\n",
    "\r\n",
    "*Nunca podras abarcar la musica en un sólo instante*\r\n",
    "\r\n",
    "**Nunca podras abarcar la musica en un sólo instante**\r\n",
    "\r\n",
    "***Nunca podras abarcar la musica en un sólo instante***\r\n",
    "\r\n",
    "\r\n",
    "> Ese día no viniste a Cocodrilo Disco\r\n",
    "\r\n"
   ]
  },
  {
   "cell_type": "code",
   "execution_count": null,
   "metadata": {
    "id": "9XgDpzPrd4wo"
   },
   "outputs": [],
   "source": [
    " "
   ]
  },
  {
   "cell_type": "markdown",
   "metadata": {
    "id": "UM1iivCPlli4"
   },
   "source": [
    "# Lenguaje LaTex\r\n",
    "\r\n",
    "El lenguaje LaTeX se usa para colocar ecuaciones matemáticas de forma profesional.\r\n",
    "\r\n",
    "Este es el lenguaje estandar usado por la mayoría de los científicos en el mundo.\r\n",
    "\r\n",
    "$Y=x^2$ \r\n",
    "\r\n",
    "$$Y=x^2$$\r\n",
    "\r\n",
    "$$\\frac{dx}{dt}=kC$$\r\n",
    "\r\n",
    "\r\n",
    "\r\n"
   ]
  },
  {
   "cell_type": "code",
   "execution_count": null,
   "metadata": {
    "id": "PGyYBDAsmRM-"
   },
   "outputs": [],
   "source": []
  },
  {
   "cell_type": "code",
   "execution_count": 1,
   "metadata": {
    "colab": {
     "base_uri": "https://localhost:8080/"
    },
    "id": "AgFfwvEonyDo",
    "outputId": "7bfd73d0-c8b4-4596-87d8-4d1d7af10da2"
   },
   "outputs": [
    {
     "name": "stdout",
     "output_type": "stream",
     "text": [
      "Hola amigo....Hello friend\n"
     ]
    }
   ],
   "source": [
    "print(\"Hola amigo....Hello friend\")"
   ]
  }
 ],
 "metadata": {
  "colab": {
   "name": "Mi Primer Cuadernito.ipynb",
   "provenance": []
  },
  "kernelspec": {
   "display_name": "Python 3",
   "language": "python",
   "name": "python3"
  },
  "language_info": {
   "codemirror_mode": {
    "name": "ipython",
    "version": 3
   },
   "file_extension": ".py",
   "mimetype": "text/x-python",
   "name": "python",
   "nbconvert_exporter": "python",
   "pygments_lexer": "ipython3",
   "version": "3.8.5"
  }
 },
 "nbformat": 4,
 "nbformat_minor": 4
}
